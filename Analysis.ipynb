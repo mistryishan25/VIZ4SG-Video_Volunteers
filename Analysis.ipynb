{
 "cells": [
  {
   "cell_type": "markdown",
   "id": "f31c32fe-6c2e-416f-8093-65e16b6b8f16",
   "metadata": {},
   "source": [
    "# Analysis \n",
    "- [ ] `cc_name` can be used to see contribution of each volunteer. \n",
    "- [ ] count the number of people innvolved in a project - `cc_name`, `mentor`, \n",
    "- [ ] `youtube_publish_date` - for trends in video uploads\n",
    "    - [ ] Every year which months have been more active?\n",
    "- [ ] Break down descritption into words NER maybe?"
   ]
  },
  {
   "cell_type": "code",
   "execution_count": null,
   "id": "8249bb98-945b-43a1-a20f-3711eff26188",
   "metadata": {},
   "outputs": [],
   "source": []
  }
 ],
 "metadata": {
  "kernelspec": {
   "display_name": "Python 3 (ipykernel)",
   "language": "python",
   "name": "python3"
  },
  "language_info": {
   "codemirror_mode": {
    "name": "ipython",
    "version": 3
   },
   "file_extension": ".py",
   "mimetype": "text/x-python",
   "name": "python",
   "nbconvert_exporter": "python",
   "pygments_lexer": "ipython3",
   "version": "3.7.11"
  }
 },
 "nbformat": 4,
 "nbformat_minor": 5
}
