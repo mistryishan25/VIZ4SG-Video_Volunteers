{
 "cells": [
  {
   "cell_type": "markdown",
   "id": "7766fc00-51e5-4410-a493-f1945bb434fd",
   "metadata": {},
   "source": [
    "## Manually : \n",
    "\n",
    "Note : If the entire row is NULL or NA then don't bother filling in the value bettr to discard the entire row instead\n",
    "- [ ] Remove the \"impact\" option by classifying them into other `issues`\n",
    "- [ ] Combine some of the causes into one `issues`\n",
    "- [ ] Can we fill in the values for `impact_in_process`? \n"
   ]
  },
  {
   "cell_type": "markdown",
   "id": "4ad927d3-36dd-4626-9436-9ac312c5d200",
   "metadata": {},
   "source": [
    "## Convention : \n",
    "1. Everything is in lower case\n",
    "2. For boolean values it is always True or False"
   ]
  },
  {
   "cell_type": "code",
   "execution_count": 66,
   "id": "98b144b7-627b-489e-85a7-63faa3e22683",
   "metadata": {},
   "outputs": [],
   "source": [
    "import pandas as pd\n",
    "import numpy as np\n",
    "pd.set_option('display.max_rows', 2050)\n",
    "pd.set_option('display.max_columns', 500)\n",
    "pd.set_option('display.width', 1000)\n",
    "import matplotlib.pyplot as plt\n",
    "%store -r selected_1"
   ]
  },
  {
   "cell_type": "markdown",
   "id": "9f8b049e-2203-4b50-b79a-f8e5ec8d3271",
   "metadata": {
    "tags": []
   },
   "source": [
    "## Helper Fucntions"
   ]
  },
  {
   "cell_type": "code",
   "execution_count": 2,
   "id": "e2ea8c79-14f1-4b15-8628-66a1f7338cd4",
   "metadata": {},
   "outputs": [],
   "source": [
    "def split_dates(df, column_name) -> pd.DataFrame:\n",
    "    if type(df[column_name][0]) == str:\n",
    "        df[[str(column_name)+'_year', \n",
    "            str(column_name)+'_month',\n",
    "            str(column_name)+'_day']] = df[column_name].str.split(\"-\", expand=True)\n",
    "    \n",
    "    if type(df[column_name][0]) == pd._libs.tslibs.timestamps.Timestamp:\n",
    "        df.loc[:, str(column_name)+'_year'] = df.loc[:, column_name].dt.year\n",
    "        df.loc[:, str(column_name)+'_month'] = df.loc[:, column_name].dt.month\n",
    "        df.loc[:, str(column_name)+'_day'] = df.loc[:, column_name].dt.day\n",
    "    return df"
   ]
  },
  {
   "cell_type": "code",
   "execution_count": 3,
   "id": "c56b6944-bf1f-43be-82e6-81c560ad3ee2",
   "metadata": {},
   "outputs": [
    {
     "data": {
      "text/html": [
       "<div>\n",
       "<style scoped>\n",
       "    .dataframe tbody tr th:only-of-type {\n",
       "        vertical-align: middle;\n",
       "    }\n",
       "\n",
       "    .dataframe tbody tr th {\n",
       "        vertical-align: top;\n",
       "    }\n",
       "\n",
       "    .dataframe thead th {\n",
       "        text-align: right;\n",
       "    }\n",
       "</style>\n",
       "<table border=\"1\" class=\"dataframe\">\n",
       "  <thead>\n",
       "    <tr style=\"text-align: right;\">\n",
       "      <th></th>\n",
       "      <th>id</th>\n",
       "      <th>id</th>\n",
       "      <th>state_id</th>\n",
       "      <th>state_name</th>\n",
       "      <th>district</th>\n",
       "      <th>cc_id</th>\n",
       "      <th>cc_name</th>\n",
       "      <th>mentor</th>\n",
       "      <th>story_pitch_date</th>\n",
       "      <th>description</th>\n",
       "      <th>...</th>\n",
       "      <th>impact_facebook_url</th>\n",
       "      <th>impact_facebook_publish_date</th>\n",
       "      <th>impact_youtube_url</th>\n",
       "      <th>impact_youtube_publish_date</th>\n",
       "      <th>impact_video_youtube_subtitle</th>\n",
       "      <th>impact_website_url</th>\n",
       "      <th>impact_website_publish_date</th>\n",
       "      <th>created_by</th>\n",
       "      <th>created_at</th>\n",
       "      <th>updated_at</th>\n",
       "    </tr>\n",
       "  </thead>\n",
       "  <tbody>\n",
       "    <tr>\n",
       "      <th>0</th>\n",
       "      <td>2465</td>\n",
       "      <td>JH_5257</td>\n",
       "      <td>16</td>\n",
       "      <td>Jharkhand</td>\n",
       "      <td>Palamu</td>\n",
       "      <td>438</td>\n",
       "      <td>Bhaskar Raj</td>\n",
       "      <td>Shikha Paharin</td>\n",
       "      <td>2021-08-10</td>\n",
       "      <td>Before the primary health center in Satbarwa b...</td>\n",
       "      <td>...</td>\n",
       "      <td>NaN</td>\n",
       "      <td>NaT</td>\n",
       "      <td>NaN</td>\n",
       "      <td>NaT</td>\n",
       "      <td>NaN</td>\n",
       "      <td>NaN</td>\n",
       "      <td>NaN</td>\n",
       "      <td>Bhaskar Raj</td>\n",
       "      <td>2021-08-11 15:22:27.269</td>\n",
       "      <td>2022-06-01 09:39:22.169</td>\n",
       "    </tr>\n",
       "    <tr>\n",
       "      <th>1</th>\n",
       "      <td>2476</td>\n",
       "      <td>JH_5259</td>\n",
       "      <td>16</td>\n",
       "      <td>Jharkhand</td>\n",
       "      <td>Khunti</td>\n",
       "      <td>409</td>\n",
       "      <td>Ravinder Baraik</td>\n",
       "      <td>Shikha Paharin</td>\n",
       "      <td>2021-08-13</td>\n",
       "      <td>District-Khuti, Block-Raniya Community Health ...</td>\n",
       "      <td>...</td>\n",
       "      <td>NaN</td>\n",
       "      <td>NaT</td>\n",
       "      <td>NaN</td>\n",
       "      <td>NaT</td>\n",
       "      <td>NaN</td>\n",
       "      <td>NaN</td>\n",
       "      <td>NaN</td>\n",
       "      <td>Ravinder Baraik</td>\n",
       "      <td>2021-08-13 03:47:17.737</td>\n",
       "      <td>2022-06-01 09:47:22.692</td>\n",
       "    </tr>\n",
       "    <tr>\n",
       "      <th>2</th>\n",
       "      <td>2879</td>\n",
       "      <td>JH_5291</td>\n",
       "      <td>16</td>\n",
       "      <td>Jharkhand</td>\n",
       "      <td>Garhwa</td>\n",
       "      <td>440</td>\n",
       "      <td>Prashant Toppo</td>\n",
       "      <td>Graduate CC</td>\n",
       "      <td>2021-10-22</td>\n",
       "      <td>The ration card of 15 primitive tribal familie...</td>\n",
       "      <td>...</td>\n",
       "      <td>NaN</td>\n",
       "      <td>NaT</td>\n",
       "      <td>NaN</td>\n",
       "      <td>NaT</td>\n",
       "      <td>NaN</td>\n",
       "      <td>NaN</td>\n",
       "      <td>NaN</td>\n",
       "      <td>Prashant Toppo</td>\n",
       "      <td>2021-10-24 08:33:47.204</td>\n",
       "      <td>2022-03-30 13:01:53.727</td>\n",
       "    </tr>\n",
       "    <tr>\n",
       "      <th>3</th>\n",
       "      <td>2881</td>\n",
       "      <td>JH_5292</td>\n",
       "      <td>16</td>\n",
       "      <td>Jharkhand</td>\n",
       "      <td>Garhwa</td>\n",
       "      <td>440</td>\n",
       "      <td>Prashant Toppo</td>\n",
       "      <td>Graduate CC</td>\n",
       "      <td>2021-10-23</td>\n",
       "      <td>total of 18 primitive tribal families, includ...</td>\n",
       "      <td>...</td>\n",
       "      <td>NaN</td>\n",
       "      <td>NaT</td>\n",
       "      <td>NaN</td>\n",
       "      <td>NaT</td>\n",
       "      <td>NaN</td>\n",
       "      <td>NaN</td>\n",
       "      <td>NaN</td>\n",
       "      <td>Prashant Toppo</td>\n",
       "      <td>2021-10-24 09:59:51.898</td>\n",
       "      <td>2022-03-30 13:01:53.727</td>\n",
       "    </tr>\n",
       "    <tr>\n",
       "      <th>4</th>\n",
       "      <td>2639</td>\n",
       "      <td>JH_5277</td>\n",
       "      <td>16</td>\n",
       "      <td>Jharkhand</td>\n",
       "      <td>Dhanbad</td>\n",
       "      <td>83</td>\n",
       "      <td>Halima Ejaz</td>\n",
       "      <td>Guruprasad Pednekar</td>\n",
       "      <td>2021-08-01</td>\n",
       "      <td>Follow up video of JH_5075 &amp; JH_5053 - for CHA...</td>\n",
       "      <td>...</td>\n",
       "      <td>NaN</td>\n",
       "      <td>NaT</td>\n",
       "      <td>NaN</td>\n",
       "      <td>NaT</td>\n",
       "      <td>NaN</td>\n",
       "      <td>NaN</td>\n",
       "      <td>NaN</td>\n",
       "      <td>Amrita Anand</td>\n",
       "      <td>2021-09-01 12:31:50.515</td>\n",
       "      <td>2022-06-01 09:41:51.210</td>\n",
       "    </tr>\n",
       "  </tbody>\n",
       "</table>\n",
       "<p>5 rows × 133 columns</p>\n",
       "</div>"
      ],
      "text/plain": [
       "     id        id   state_id  state_name  district   cc_id           cc_name  \\\n",
       "0  2465   JH_5257         16   Jharkhand    Palamu     438       Bhaskar Raj   \n",
       "1  2476   JH_5259         16   Jharkhand    Khunti     409   Ravinder Baraik   \n",
       "2  2879   JH_5291         16   Jharkhand    Garhwa     440    Prashant Toppo   \n",
       "3  2881   JH_5292         16   Jharkhand    Garhwa     440    Prashant Toppo   \n",
       "4  2639   JH_5277         16   Jharkhand   Dhanbad      83       Halima Ejaz   \n",
       "\n",
       "                 mentor  story_pitch_date  \\\n",
       "0        Shikha Paharin        2021-08-10   \n",
       "1        Shikha Paharin        2021-08-13   \n",
       "2           Graduate CC        2021-10-22   \n",
       "3           Graduate CC        2021-10-23   \n",
       "4   Guruprasad Pednekar        2021-08-01   \n",
       "\n",
       "                                         description  ...  \\\n",
       "0  Before the primary health center in Satbarwa b...  ...   \n",
       "1  District-Khuti, Block-Raniya Community Health ...  ...   \n",
       "2  The ration card of 15 primitive tribal familie...  ...   \n",
       "3   total of 18 primitive tribal families, includ...  ...   \n",
       "4  Follow up video of JH_5075 & JH_5053 - for CHA...  ...   \n",
       "\n",
       "   impact_facebook_url  impact_facebook_publish_date  impact_youtube_url  \\\n",
       "0                  NaN                           NaT                 NaN   \n",
       "1                  NaN                           NaT                 NaN   \n",
       "2                  NaN                           NaT                 NaN   \n",
       "3                  NaN                           NaT                 NaN   \n",
       "4                  NaN                           NaT                 NaN   \n",
       "\n",
       "   impact_youtube_publish_date  impact_video_youtube_subtitle  \\\n",
       "0                          NaT                            NaN   \n",
       "1                          NaT                            NaN   \n",
       "2                          NaT                            NaN   \n",
       "3                          NaT                            NaN   \n",
       "4                          NaT                            NaN   \n",
       "\n",
       "   impact_website_url  impact_website_publish_date        created_by  \\\n",
       "0                 NaN                          NaN       Bhaskar Raj   \n",
       "1                 NaN                          NaN   Ravinder Baraik   \n",
       "2                 NaN                          NaN    Prashant Toppo   \n",
       "3                 NaN                          NaN    Prashant Toppo   \n",
       "4                 NaN                          NaN      Amrita Anand   \n",
       "\n",
       "               created_at              updated_at  \n",
       "0 2021-08-11 15:22:27.269 2022-06-01 09:39:22.169  \n",
       "1 2021-08-13 03:47:17.737 2022-06-01 09:47:22.692  \n",
       "2 2021-10-24 08:33:47.204 2022-03-30 13:01:53.727  \n",
       "3 2021-10-24 09:59:51.898 2022-03-30 13:01:53.727  \n",
       "4 2021-09-01 12:31:50.515 2022-06-01 09:41:51.210  \n",
       "\n",
       "[5 rows x 133 columns]"
      ]
     },
     "execution_count": 3,
     "metadata": {},
     "output_type": "execute_result"
    }
   ],
   "source": [
    "unclean_data = pd.read_excel('Data_Video_Volunteers (translated).xlsx', sheet_name=0)\n",
    "unclean_data.reset_index(drop=True, inplace=True)\n",
    "unclean_data.head()"
   ]
  },
  {
   "cell_type": "code",
   "execution_count": 9,
   "id": "b96aba6a-d976-4cf4-a5a3-58eb74d9ae85",
   "metadata": {},
   "outputs": [],
   "source": [
    "# Original column names had a space in the front\n",
    "unclean_data.columns = unclean_data.columns.str.strip()\n",
    "unclean_data = unclean_data.fillna('NA')"
   ]
  },
  {
   "cell_type": "code",
   "execution_count": 10,
   "id": "cd4e570e-3c6e-4733-b5e5-b60588beae89",
   "metadata": {},
   "outputs": [
    {
     "data": {
      "text/plain": [
       "Index(['id', 'id', 'state_id', 'state_name', 'district', 'cc_id', 'cc_name',\n",
       "       'mentor', 'story_pitch_date', 'description',\n",
       "       ...\n",
       "       'impact_facebook_url', 'impact_facebook_publish_date',\n",
       "       'impact_youtube_url', 'impact_youtube_publish_date',\n",
       "       'impact_video_youtube_subtitle', 'impact_website_url',\n",
       "       'impact_website_publish_date', 'created_by', 'created_at',\n",
       "       'updated_at'],\n",
       "      dtype='object', length=133)"
      ]
     },
     "execution_count": 10,
     "metadata": {},
     "output_type": "execute_result"
    }
   ],
   "source": [
    "unclean_data.columns"
   ]
  },
  {
   "cell_type": "code",
   "execution_count": null,
   "id": "609c846c-2a86-47bb-bf21-d5cb14d18b28",
   "metadata": {},
   "outputs": [],
   "source": [
    "#  Cleaned datafrane will be the combinatino of all the batches"
   ]
  },
  {
   "cell_type": "markdown",
   "id": "d517f62e-5d44-48e2-b046-f43d342214ca",
   "metadata": {
    "tags": []
   },
   "source": [
    "## Cleaning Status - 1\n",
    "- [x] 'cc_name', \n",
    "- [x] 'mentor', \n",
    "- [ ] 'description', \n",
    "- [x] 'issues',\n",
    "- [x] 'youtube_publish_date',\n",
    "- [x] 'updated_at', \n",
    "- [ ] 'district', \n",
    "- [x] 'impact_possible', \n",
    "- [x] 'is_impact',\n",
    "- [x] 'impact_in_process',\n",
    "- [ ] 'target_official', \n",
    "- [ ] 'call_to_action',\n",
    "- [ ] 'impact_plan'"
   ]
  },
  {
   "cell_type": "code",
   "execution_count": 11,
   "id": "21b29a21-f23e-4c0b-a4a1-f003d4816ab6",
   "metadata": {},
   "outputs": [
    {
     "data": {
      "text/plain": [
       "Index(['cc_name', 'mentor', 'description', 'issues', 'youtube_publish_date',\n",
       "       'updated_at', 'district', 'impact_possible', 'is_impact',\n",
       "       'impact_in_process', 'target_official', 'call_to_action',\n",
       "       'impact_plan'],\n",
       "      dtype='object')"
      ]
     },
     "execution_count": 11,
     "metadata": {},
     "output_type": "execute_result"
    }
   ],
   "source": [
    "batch_1 = unclean_data[selected_1]\n",
    "batch_1.columns"
   ]
  },
  {
   "cell_type": "code",
   "execution_count": null,
   "id": "599de235-4ef9-4c19-b9c3-f9606589ab16",
   "metadata": {},
   "outputs": [],
   "source": [
    "batch_1.info()"
   ]
  },
  {
   "cell_type": "markdown",
   "id": "5319fcb7-d0d4-4057-9a74-a85a5fa4076b",
   "metadata": {
    "tags": []
   },
   "source": [
    "### Batch-1"
   ]
  },
  {
   "cell_type": "code",
   "execution_count": null,
   "id": "fb5df48a-4fdc-4355-a08f-9298a9cff0d3",
   "metadata": {},
   "outputs": [],
   "source": [
    "#description"
   ]
  },
  {
   "cell_type": "code",
   "execution_count": null,
   "id": "840ecd15-3423-4464-8468-f402ab9d8ba3",
   "metadata": {
    "tags": []
   },
   "outputs": [],
   "source": [
    "#youtube_publish_date\n",
    "\n",
    "assert batch_1['youtube_publish_date'].isna().sum() == 0\n",
    "batch_1 = split_dates(batch_1, 'youtube_publish_date')"
   ]
  },
  {
   "cell_type": "code",
   "execution_count": null,
   "id": "94bc1f24-be10-4896-b34b-fec05a0cecda",
   "metadata": {},
   "outputs": [],
   "source": [
    "batch_1.columns"
   ]
  },
  {
   "cell_type": "code",
   "execution_count": null,
   "id": "2bfd2f03-5e84-4f48-a578-b0a979673561",
   "metadata": {},
   "outputs": [],
   "source": [
    "# dates of publishing youtube videos\n",
    "publish_dates = pd.DataFrame(batch_1['youtube_publish_date'].value_counts(dropna=False).reset_index())\n",
    "publish_dates.columns = ['date', 'count']\n",
    "publish_dates.plot('date','count', figsize=(20,4))"
   ]
  },
  {
   "cell_type": "code",
   "execution_count": null,
   "id": "082ea3ff-8fc3-459a-b9b1-3fe75a40034f",
   "metadata": {
    "tags": []
   },
   "outputs": [],
   "source": [
    "#updated_at\n",
    "\n",
    "assert batch_1['updated_at'].isna().sum() == 0\n",
    "# check if the publish date is the same as the databse update date ?\n",
    "if(batch_1['updated_at'].equals(batch_1['youtube_publish_date'])):\n",
    "    batch_1.drop('updated_at', axis=1, inplace=True)\n",
    "else:\n",
    "    split_dates(batch_1, 'updated_at')\n",
    "batch_1.columns"
   ]
  },
  {
   "cell_type": "code",
   "execution_count": null,
   "id": "9bf4fe42-efb8-4a2e-8a45-89f96aaaf02a",
   "metadata": {
    "tags": []
   },
   "outputs": [],
   "source": [
    "#issues\n",
    "\n",
    "batch_1.loc[:,'issues'] = batch_1.loc[:,'issues'].str.strip().str.lower()\n",
    "batch_1.loc[:, 'issues'].value_counts()"
   ]
  },
  {
   "cell_type": "code",
   "execution_count": null,
   "id": "574130e9-ae36-46b7-bed5-a33268068693",
   "metadata": {},
   "outputs": [],
   "source": [
    "# is_impact\n",
    "\n",
    "batch_1.loc[:,'is_impact'] = batch_1.loc[:,'is_impact'].map({1.0:True, 0.0:False, None: 'NA'})\n",
    "batch_1['is_impact'].value_counts(dropna=False)"
   ]
  },
  {
   "cell_type": "code",
   "execution_count": null,
   "id": "1520d7f2-0c69-4de7-8ac7-a709308f683e",
   "metadata": {},
   "outputs": [],
   "source": [
    "# impact_possible\n",
    "\n",
    "# batch_1.loc[:,'impact_possible'].value_counts(dropna=False)\n",
    "\n",
    "batch_1.loc[:,'impact_possible'] = batch_1.loc[:,'impact_possible'].str.strip().str.lower()\n",
    "batch_1.loc[:,'impact_possible'] = batch_1.loc[:,'impact_possible'].map({'no':False,'yes':True})  \n",
    "batch_1.loc[:,'impact_possible'].value_counts(dropna=False)"
   ]
  },
  {
   "cell_type": "code",
   "execution_count": 20,
   "id": "bdb35a49-e821-45e1-b7a4-8fbfa2408e6c",
   "metadata": {},
   "outputs": [],
   "source": [
    "#impact_in_process\n",
    "\n",
    "batch_1['impact_in_process'] = batch_1['impact_in_process'].str.lower().str.strip()\n",
    "batch_1.loc[:, 'impact_in_process']= batch_1.loc[:,'impact_in_process'].map({'no' : False, 'yes' :True, 'na':'NA'})\n",
    "batch_1.loc[:,'impact_in_process'].value_counts()"
   ]
  },
  {
   "cell_type": "code",
   "execution_count": 110,
   "id": "a9febb79-c2a5-4727-b4a2-35bbe4948d0e",
   "metadata": {
    "tags": []
   },
   "outputs": [],
   "source": [
    "# target_official \n",
    "\n",
    "temp = batch_1.copy()\n",
    "# temp['target_official'].value_counts()\n",
    "\n",
    "temp['target_official'] = temp['target_official'].str.strip()\n",
    "temp = temp['target_official'].str.split(\",\", expand = True)"
   ]
  },
  {
   "cell_type": "code",
   "execution_count": 112,
   "id": "7fbab02a-f53a-4c54-9372-23de94f6a4a2",
   "metadata": {
    "scrolled": true,
    "tags": []
   },
   "outputs": [
    {
     "data": {
      "text/html": [
       "<div>\n",
       "<style scoped>\n",
       "    .dataframe tbody tr th:only-of-type {\n",
       "        vertical-align: middle;\n",
       "    }\n",
       "\n",
       "    .dataframe tbody tr th {\n",
       "        vertical-align: top;\n",
       "    }\n",
       "\n",
       "    .dataframe thead th {\n",
       "        text-align: right;\n",
       "    }\n",
       "</style>\n",
       "<table border=\"1\" class=\"dataframe\">\n",
       "  <thead>\n",
       "    <tr style=\"text-align: right;\">\n",
       "      <th></th>\n",
       "      <th>0</th>\n",
       "      <th>1</th>\n",
       "      <th>2</th>\n",
       "      <th>3</th>\n",
       "    </tr>\n",
       "  </thead>\n",
       "  <tbody>\n",
       "    <tr>\n",
       "      <th>0</th>\n",
       "      <td>now</td>\n",
       "      <td>None</td>\n",
       "      <td>None</td>\n",
       "      <td>None</td>\n",
       "    </tr>\n",
       "    <tr>\n",
       "      <th>1</th>\n",
       "      <td>NA</td>\n",
       "      <td>None</td>\n",
       "      <td>None</td>\n",
       "      <td>None</td>\n",
       "    </tr>\n",
       "    <tr>\n",
       "      <th>2</th>\n",
       "      <td>B.D.O.</td>\n",
       "      <td>MO</td>\n",
       "      <td>None</td>\n",
       "      <td>None</td>\n",
       "    </tr>\n",
       "    <tr>\n",
       "      <th>3</th>\n",
       "      <td>B.D.O.</td>\n",
       "      <td>None</td>\n",
       "      <td>None</td>\n",
       "      <td>None</td>\n",
       "    </tr>\n",
       "    <tr>\n",
       "      <th>4</th>\n",
       "      <td>NA</td>\n",
       "      <td>None</td>\n",
       "      <td>None</td>\n",
       "      <td>None</td>\n",
       "    </tr>\n",
       "    <tr>\n",
       "      <th>5</th>\n",
       "      <td>NA</td>\n",
       "      <td>None</td>\n",
       "      <td>None</td>\n",
       "      <td>None</td>\n",
       "    </tr>\n",
       "    <tr>\n",
       "      <th>6</th>\n",
       "      <td>electrical engineer</td>\n",
       "      <td>None</td>\n",
       "      <td>None</td>\n",
       "      <td>None</td>\n",
       "    </tr>\n",
       "    <tr>\n",
       "      <th>7</th>\n",
       "      <td>NA</td>\n",
       "      <td>None</td>\n",
       "      <td>None</td>\n",
       "      <td>None</td>\n",
       "    </tr>\n",
       "    <tr>\n",
       "      <th>8</th>\n",
       "      <td>NA</td>\n",
       "      <td>None</td>\n",
       "      <td>None</td>\n",
       "      <td>None</td>\n",
       "    </tr>\n",
       "    <tr>\n",
       "      <th>9</th>\n",
       "      <td>NA</td>\n",
       "      <td>None</td>\n",
       "      <td>None</td>\n",
       "      <td>None</td>\n",
       "    </tr>\n",
       "  </tbody>\n",
       "</table>\n",
       "</div>"
      ],
      "text/plain": [
       "                     0     1     2     3\n",
       "0                  now  None  None  None\n",
       "1                   NA  None  None  None\n",
       "2               B.D.O.    MO  None  None\n",
       "3               B.D.O.  None  None  None\n",
       "4                   NA  None  None  None\n",
       "5                   NA  None  None  None\n",
       "6  electrical engineer  None  None  None\n",
       "7                   NA  None  None  None\n",
       "8                   NA  None  None  None\n",
       "9                   NA  None  None  None"
      ]
     },
     "execution_count": 112,
     "metadata": {},
     "output_type": "execute_result"
    }
   ],
   "source": [
    "temp.head(10)"
   ]
  },
  {
   "cell_type": "code",
   "execution_count": 109,
   "id": "60f0528a-52c4-43db-87be-f6971c4c8050",
   "metadata": {
    "tags": []
   },
   "outputs": [
    {
     "data": {
      "text/plain": [
       "array(['bso', 'DC', 'dpo', 'BEO', 'BHO', 'BDO', 'Co', 'CO', 'CEO', 'bdo',\n",
       "       'DEO', 'DM', 'SBI', 'DTO', 'DC ', 'SDO', 'SP', 'DSP', 'GM', 'B',\n",
       "       'ssp', 'MP', 'sdm'], dtype=object)"
      ]
     },
     "execution_count": 109,
     "metadata": {},
     "output_type": "execute_result"
    }
   ],
   "source": [
    "# To DO : Select what to map and what to change\n",
    "\n",
    "\n",
    "map = {'bso' : 'BSO', 'dpo' : 'DPO'}\n",
    "# replace . with ''\n",
    "temp.replace('.', '')\n",
    "word = [\"NA\", 'now', 'no', 'n', 'N/A']\n",
    "small_words = temp.loc[(temp[0].str.len()<4) & (~temp[0].str.contains('|'.join(words for words in word)))]\n",
    "small_words[0].unique()"
   ]
  },
  {
   "cell_type": "code",
   "execution_count": 113,
   "id": "a25d6586-1060-4318-a7b8-fa1a209081b3",
   "metadata": {
    "tags": []
   },
   "outputs": [
    {
     "data": {
      "text/html": [
       "<div>\n",
       "<style scoped>\n",
       "    .dataframe tbody tr th:only-of-type {\n",
       "        vertical-align: middle;\n",
       "    }\n",
       "\n",
       "    .dataframe tbody tr th {\n",
       "        vertical-align: top;\n",
       "    }\n",
       "\n",
       "    .dataframe thead th {\n",
       "        text-align: right;\n",
       "    }\n",
       "</style>\n",
       "<table border=\"1\" class=\"dataframe\">\n",
       "  <thead>\n",
       "    <tr style=\"text-align: right;\">\n",
       "      <th></th>\n",
       "      <th>0</th>\n",
       "      <th>1</th>\n",
       "      <th>2</th>\n",
       "      <th>3</th>\n",
       "    </tr>\n",
       "  </thead>\n",
       "  <tbody>\n",
       "    <tr>\n",
       "      <th>0</th>\n",
       "      <td>now</td>\n",
       "      <td>None</td>\n",
       "      <td>None</td>\n",
       "      <td>None</td>\n",
       "    </tr>\n",
       "    <tr>\n",
       "      <th>2</th>\n",
       "      <td>B.D.O.</td>\n",
       "      <td>MO</td>\n",
       "      <td>None</td>\n",
       "      <td>None</td>\n",
       "    </tr>\n",
       "    <tr>\n",
       "      <th>3</th>\n",
       "      <td>B.D.O.</td>\n",
       "      <td>None</td>\n",
       "      <td>None</td>\n",
       "      <td>None</td>\n",
       "    </tr>\n",
       "    <tr>\n",
       "      <th>6</th>\n",
       "      <td>electrical engineer</td>\n",
       "      <td>None</td>\n",
       "      <td>None</td>\n",
       "      <td>None</td>\n",
       "    </tr>\n",
       "    <tr>\n",
       "      <th>13</th>\n",
       "      <td>now</td>\n",
       "      <td>None</td>\n",
       "      <td>None</td>\n",
       "      <td>None</td>\n",
       "    </tr>\n",
       "    <tr>\n",
       "      <th>18</th>\n",
       "      <td>B.D.O.</td>\n",
       "      <td>None</td>\n",
       "      <td>None</td>\n",
       "      <td>None</td>\n",
       "    </tr>\n",
       "    <tr>\n",
       "      <th>20</th>\n",
       "      <td>no</td>\n",
       "      <td>None</td>\n",
       "      <td>None</td>\n",
       "      <td>None</td>\n",
       "    </tr>\n",
       "    <tr>\n",
       "      <th>21</th>\n",
       "      <td>B.D.O.</td>\n",
       "      <td>None</td>\n",
       "      <td>None</td>\n",
       "      <td>None</td>\n",
       "    </tr>\n",
       "    <tr>\n",
       "      <th>22</th>\n",
       "      <td>B.D.O.</td>\n",
       "      <td>None</td>\n",
       "      <td>None</td>\n",
       "      <td>None</td>\n",
       "    </tr>\n",
       "    <tr>\n",
       "      <th>23</th>\n",
       "      <td>B.D.O.</td>\n",
       "      <td>None</td>\n",
       "      <td>None</td>\n",
       "      <td>None</td>\n",
       "    </tr>\n",
       "  </tbody>\n",
       "</table>\n",
       "</div>"
      ],
      "text/plain": [
       "                      0     1     2     3\n",
       "0                   now  None  None  None\n",
       "2                B.D.O.    MO  None  None\n",
       "3                B.D.O.  None  None  None\n",
       "6   electrical engineer  None  None  None\n",
       "13                  now  None  None  None\n",
       "18               B.D.O.  None  None  None\n",
       "20                   no  None  None  None\n",
       "21               B.D.O.  None  None  None\n",
       "22               B.D.O.  None  None  None\n",
       "23               B.D.O.  None  None  None"
      ]
     },
     "execution_count": 113,
     "metadata": {},
     "output_type": "execute_result"
    }
   ],
   "source": [
    "temp[temp[0]!='NA'].head(10)"
   ]
  },
  {
   "cell_type": "code",
   "execution_count": 75,
   "id": "a9d12670-4ea5-4524-b8e3-a6ace7598e9f",
   "metadata": {},
   "outputs": [
    {
     "data": {
      "text/plain": [
       "2002"
      ]
     },
     "execution_count": 75,
     "metadata": {},
     "output_type": "execute_result"
    }
   ],
   "source": [
    "len(temp[0].values)"
   ]
  },
  {
   "cell_type": "code",
   "execution_count": null,
   "id": "a45fe485-7aca-488b-88d2-cfa27903c5af",
   "metadata": {},
   "outputs": [],
   "source": []
  }
 ],
 "metadata": {
  "kernelspec": {
   "display_name": "Python 3 (ipykernel)",
   "language": "python",
   "name": "python3"
  },
  "language_info": {
   "codemirror_mode": {
    "name": "ipython",
    "version": 3
   },
   "file_extension": ".py",
   "mimetype": "text/x-python",
   "name": "python",
   "nbconvert_exporter": "python",
   "pygments_lexer": "ipython3",
   "version": "3.7.11"
  }
 },
 "nbformat": 4,
 "nbformat_minor": 5
}
