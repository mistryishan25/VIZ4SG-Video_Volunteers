{
 "cells": [
  {
   "cell_type": "markdown",
   "id": "7766fc00-51e5-4410-a493-f1945bb434fd",
   "metadata": {},
   "source": [
    "## Manually : \n",
    "- [ ] Remove the \"impact\" option by classifying them into other `issues`\n",
    "- [ ] Combine some of the causes into one `issues`\n"
   ]
  },
  {
   "cell_type": "markdown",
   "id": "4ad927d3-36dd-4626-9436-9ac312c5d200",
   "metadata": {},
   "source": [
    "## Convention : \n",
    "1. Everything is in lower case\n",
    "2. For boolean values it is always True or False"
   ]
  },
  {
   "cell_type": "code",
   "execution_count": 1,
   "id": "98b144b7-627b-489e-85a7-63faa3e22683",
   "metadata": {},
   "outputs": [],
   "source": [
    "import pandas as pd\n",
    "import numpy\n",
    "import matplotlib.pyplot as plt\n",
    "%store -r selected_1"
   ]
  },
  {
   "cell_type": "markdown",
   "id": "9f8b049e-2203-4b50-b79a-f8e5ec8d3271",
   "metadata": {
    "tags": []
   },
   "source": [
    "## Helper Fucntions"
   ]
  },
  {
   "cell_type": "code",
   "execution_count": 2,
   "id": "e2ea8c79-14f1-4b15-8628-66a1f7338cd4",
   "metadata": {},
   "outputs": [],
   "source": [
    "def split_dates(df, column_name) -> pd.DataFrame:\n",
    "    if type(df[column_name][0]) == str:\n",
    "        df[[str(column_name)+'_year', \n",
    "            str(column_name)+'_month',\n",
    "            str(column_name)+'_day']] = df[column_name].str.split(\"-\", expand=True)\n",
    "    \n",
    "    if type(df[column_name][0]) == pd._libs.tslibs.timestamps.Timestamp:\n",
    "        df.loc[:, str(column_name)+'_year'] = df.loc[:, column_name].dt.year\n",
    "        df.loc[:, str(column_name)+'_month'] = df.loc[:, column_name].dt.month\n",
    "        df.loc[:, str(column_name)+'_day'] = df.loc[:, column_name].dt.day\n",
    "    return df"
   ]
  },
  {
   "cell_type": "code",
   "execution_count": 3,
   "id": "c56b6944-bf1f-43be-82e6-81c560ad3ee2",
   "metadata": {},
   "outputs": [
    {
     "data": {
      "text/html": [
       "<div>\n",
       "<style scoped>\n",
       "    .dataframe tbody tr th:only-of-type {\n",
       "        vertical-align: middle;\n",
       "    }\n",
       "\n",
       "    .dataframe tbody tr th {\n",
       "        vertical-align: top;\n",
       "    }\n",
       "\n",
       "    .dataframe thead th {\n",
       "        text-align: right;\n",
       "    }\n",
       "</style>\n",
       "<table border=\"1\" class=\"dataframe\">\n",
       "  <thead>\n",
       "    <tr style=\"text-align: right;\">\n",
       "      <th></th>\n",
       "      <th>id</th>\n",
       "      <th>id</th>\n",
       "      <th>state_id</th>\n",
       "      <th>state_name</th>\n",
       "      <th>district</th>\n",
       "      <th>cc_id</th>\n",
       "      <th>cc_name</th>\n",
       "      <th>mentor</th>\n",
       "      <th>story_pitch_date</th>\n",
       "      <th>description</th>\n",
       "      <th>...</th>\n",
       "      <th>impact_facebook_url</th>\n",
       "      <th>impact_facebook_publish_date</th>\n",
       "      <th>impact_youtube_url</th>\n",
       "      <th>impact_youtube_publish_date</th>\n",
       "      <th>impact_video_youtube_subtitle</th>\n",
       "      <th>impact_website_url</th>\n",
       "      <th>impact_website_publish_date</th>\n",
       "      <th>created_by</th>\n",
       "      <th>created_at</th>\n",
       "      <th>updated_at</th>\n",
       "    </tr>\n",
       "  </thead>\n",
       "  <tbody>\n",
       "    <tr>\n",
       "      <th>0</th>\n",
       "      <td>2465</td>\n",
       "      <td>JH_5257</td>\n",
       "      <td>16</td>\n",
       "      <td>Jharkhand</td>\n",
       "      <td>Palamu</td>\n",
       "      <td>438</td>\n",
       "      <td>Bhaskar Raj</td>\n",
       "      <td>Shikha Paharin</td>\n",
       "      <td>2021-08-10</td>\n",
       "      <td>Before the primary health center in Satbarwa b...</td>\n",
       "      <td>...</td>\n",
       "      <td>NaN</td>\n",
       "      <td>NaT</td>\n",
       "      <td>NaN</td>\n",
       "      <td>NaT</td>\n",
       "      <td>NaN</td>\n",
       "      <td>NaN</td>\n",
       "      <td>NaN</td>\n",
       "      <td>Bhaskar Raj</td>\n",
       "      <td>2021-08-11 15:22:27.269</td>\n",
       "      <td>2022-06-01 09:39:22.169</td>\n",
       "    </tr>\n",
       "    <tr>\n",
       "      <th>1</th>\n",
       "      <td>2476</td>\n",
       "      <td>JH_5259</td>\n",
       "      <td>16</td>\n",
       "      <td>Jharkhand</td>\n",
       "      <td>Khunti</td>\n",
       "      <td>409</td>\n",
       "      <td>Ravinder Baraik</td>\n",
       "      <td>Shikha Paharin</td>\n",
       "      <td>2021-08-13</td>\n",
       "      <td>District-Khuti, Block-Raniya Community Health ...</td>\n",
       "      <td>...</td>\n",
       "      <td>NaN</td>\n",
       "      <td>NaT</td>\n",
       "      <td>NaN</td>\n",
       "      <td>NaT</td>\n",
       "      <td>NaN</td>\n",
       "      <td>NaN</td>\n",
       "      <td>NaN</td>\n",
       "      <td>Ravinder Baraik</td>\n",
       "      <td>2021-08-13 03:47:17.737</td>\n",
       "      <td>2022-06-01 09:47:22.692</td>\n",
       "    </tr>\n",
       "    <tr>\n",
       "      <th>2</th>\n",
       "      <td>2879</td>\n",
       "      <td>JH_5291</td>\n",
       "      <td>16</td>\n",
       "      <td>Jharkhand</td>\n",
       "      <td>Garhwa</td>\n",
       "      <td>440</td>\n",
       "      <td>Prashant Toppo</td>\n",
       "      <td>Graduate CC</td>\n",
       "      <td>2021-10-22</td>\n",
       "      <td>The ration card of 15 primitive tribal familie...</td>\n",
       "      <td>...</td>\n",
       "      <td>NaN</td>\n",
       "      <td>NaT</td>\n",
       "      <td>NaN</td>\n",
       "      <td>NaT</td>\n",
       "      <td>NaN</td>\n",
       "      <td>NaN</td>\n",
       "      <td>NaN</td>\n",
       "      <td>Prashant Toppo</td>\n",
       "      <td>2021-10-24 08:33:47.204</td>\n",
       "      <td>2022-03-30 13:01:53.727</td>\n",
       "    </tr>\n",
       "    <tr>\n",
       "      <th>3</th>\n",
       "      <td>2881</td>\n",
       "      <td>JH_5292</td>\n",
       "      <td>16</td>\n",
       "      <td>Jharkhand</td>\n",
       "      <td>Garhwa</td>\n",
       "      <td>440</td>\n",
       "      <td>Prashant Toppo</td>\n",
       "      <td>Graduate CC</td>\n",
       "      <td>2021-10-23</td>\n",
       "      <td>total of 18 primitive tribal families, includ...</td>\n",
       "      <td>...</td>\n",
       "      <td>NaN</td>\n",
       "      <td>NaT</td>\n",
       "      <td>NaN</td>\n",
       "      <td>NaT</td>\n",
       "      <td>NaN</td>\n",
       "      <td>NaN</td>\n",
       "      <td>NaN</td>\n",
       "      <td>Prashant Toppo</td>\n",
       "      <td>2021-10-24 09:59:51.898</td>\n",
       "      <td>2022-03-30 13:01:53.727</td>\n",
       "    </tr>\n",
       "    <tr>\n",
       "      <th>4</th>\n",
       "      <td>2639</td>\n",
       "      <td>JH_5277</td>\n",
       "      <td>16</td>\n",
       "      <td>Jharkhand</td>\n",
       "      <td>Dhanbad</td>\n",
       "      <td>83</td>\n",
       "      <td>Halima Ejaz</td>\n",
       "      <td>Guruprasad Pednekar</td>\n",
       "      <td>2021-08-01</td>\n",
       "      <td>Follow up video of JH_5075 &amp; JH_5053 - for CHA...</td>\n",
       "      <td>...</td>\n",
       "      <td>NaN</td>\n",
       "      <td>NaT</td>\n",
       "      <td>NaN</td>\n",
       "      <td>NaT</td>\n",
       "      <td>NaN</td>\n",
       "      <td>NaN</td>\n",
       "      <td>NaN</td>\n",
       "      <td>Amrita Anand</td>\n",
       "      <td>2021-09-01 12:31:50.515</td>\n",
       "      <td>2022-06-01 09:41:51.210</td>\n",
       "    </tr>\n",
       "  </tbody>\n",
       "</table>\n",
       "<p>5 rows × 133 columns</p>\n",
       "</div>"
      ],
      "text/plain": [
       "     id        id   state_id  state_name  district   cc_id           cc_name  \\\n",
       "0  2465   JH_5257         16   Jharkhand    Palamu     438       Bhaskar Raj   \n",
       "1  2476   JH_5259         16   Jharkhand    Khunti     409   Ravinder Baraik   \n",
       "2  2879   JH_5291         16   Jharkhand    Garhwa     440    Prashant Toppo   \n",
       "3  2881   JH_5292         16   Jharkhand    Garhwa     440    Prashant Toppo   \n",
       "4  2639   JH_5277         16   Jharkhand   Dhanbad      83       Halima Ejaz   \n",
       "\n",
       "                 mentor  story_pitch_date  \\\n",
       "0        Shikha Paharin        2021-08-10   \n",
       "1        Shikha Paharin        2021-08-13   \n",
       "2           Graduate CC        2021-10-22   \n",
       "3           Graduate CC        2021-10-23   \n",
       "4   Guruprasad Pednekar        2021-08-01   \n",
       "\n",
       "                                         description  ...  \\\n",
       "0  Before the primary health center in Satbarwa b...  ...   \n",
       "1  District-Khuti, Block-Raniya Community Health ...  ...   \n",
       "2  The ration card of 15 primitive tribal familie...  ...   \n",
       "3   total of 18 primitive tribal families, includ...  ...   \n",
       "4  Follow up video of JH_5075 & JH_5053 - for CHA...  ...   \n",
       "\n",
       "   impact_facebook_url  impact_facebook_publish_date  impact_youtube_url  \\\n",
       "0                  NaN                           NaT                 NaN   \n",
       "1                  NaN                           NaT                 NaN   \n",
       "2                  NaN                           NaT                 NaN   \n",
       "3                  NaN                           NaT                 NaN   \n",
       "4                  NaN                           NaT                 NaN   \n",
       "\n",
       "   impact_youtube_publish_date  impact_video_youtube_subtitle  \\\n",
       "0                          NaT                            NaN   \n",
       "1                          NaT                            NaN   \n",
       "2                          NaT                            NaN   \n",
       "3                          NaT                            NaN   \n",
       "4                          NaT                            NaN   \n",
       "\n",
       "   impact_website_url  impact_website_publish_date        created_by  \\\n",
       "0                 NaN                          NaN       Bhaskar Raj   \n",
       "1                 NaN                          NaN   Ravinder Baraik   \n",
       "2                 NaN                          NaN    Prashant Toppo   \n",
       "3                 NaN                          NaN    Prashant Toppo   \n",
       "4                 NaN                          NaN      Amrita Anand   \n",
       "\n",
       "               created_at              updated_at  \n",
       "0 2021-08-11 15:22:27.269 2022-06-01 09:39:22.169  \n",
       "1 2021-08-13 03:47:17.737 2022-06-01 09:47:22.692  \n",
       "2 2021-10-24 08:33:47.204 2022-03-30 13:01:53.727  \n",
       "3 2021-10-24 09:59:51.898 2022-03-30 13:01:53.727  \n",
       "4 2021-09-01 12:31:50.515 2022-06-01 09:41:51.210  \n",
       "\n",
       "[5 rows x 133 columns]"
      ]
     },
     "execution_count": 3,
     "metadata": {},
     "output_type": "execute_result"
    }
   ],
   "source": [
    "unclean_data = pd.read_excel('Data_Video_Volunteers (translated).xlsx', sheet_name=0)\n",
    "unclean_data.reset_index(drop=True, inplace=True)\n",
    "unclean_data.head()"
   ]
  },
  {
   "cell_type": "code",
   "execution_count": 4,
   "id": "b96aba6a-d976-4cf4-a5a3-58eb74d9ae85",
   "metadata": {},
   "outputs": [],
   "source": [
    "# Original column names had a space in the front\n",
    "unclean_data.columns = unclean_data.columns.str.strip()"
   ]
  },
  {
   "cell_type": "code",
   "execution_count": 5,
   "id": "cd4e570e-3c6e-4733-b5e5-b60588beae89",
   "metadata": {},
   "outputs": [
    {
     "data": {
      "text/plain": [
       "Index(['id', 'id', 'state_id', 'state_name', 'district', 'cc_id', 'cc_name',\n",
       "       'mentor', 'story_pitch_date', 'description',\n",
       "       ...\n",
       "       'impact_facebook_url', 'impact_facebook_publish_date',\n",
       "       'impact_youtube_url', 'impact_youtube_publish_date',\n",
       "       'impact_video_youtube_subtitle', 'impact_website_url',\n",
       "       'impact_website_publish_date', 'created_by', 'created_at',\n",
       "       'updated_at'],\n",
       "      dtype='object', length=133)"
      ]
     },
     "execution_count": 5,
     "metadata": {},
     "output_type": "execute_result"
    }
   ],
   "source": [
    "unclean_data.columns"
   ]
  },
  {
   "cell_type": "code",
   "execution_count": 6,
   "id": "609c846c-2a86-47bb-bf21-d5cb14d18b28",
   "metadata": {},
   "outputs": [],
   "source": [
    "#  Cleaned datafrane will be the combinatino of all the batches"
   ]
  },
  {
   "cell_type": "markdown",
   "id": "d517f62e-5d44-48e2-b046-f43d342214ca",
   "metadata": {
    "tags": []
   },
   "source": [
    "## Cleaning Status - 1\n",
    "- [x] 'cc_name', \n",
    "- [x] 'mentor', \n",
    "- [ ] 'description', \n",
    "- [x] 'issues',\n",
    "- [x] 'youtube_publish_date',\n",
    "- [ ] 'updated_at', \n",
    "- [ ] 'district', \n",
    "- [ ] 'impact_possible', \n",
    "- [x] 'is_impact',\n",
    "- [ ] 'impact_in_process',\n",
    "- [ ] 'target_official', \n",
    "- [ ] 'call_to_action',\n",
    "- [ ] 'impact_plan'"
   ]
  },
  {
   "cell_type": "code",
   "execution_count": 7,
   "id": "21b29a21-f23e-4c0b-a4a1-f003d4816ab6",
   "metadata": {},
   "outputs": [
    {
     "data": {
      "text/plain": [
       "Index(['cc_name', 'mentor', 'description', 'issues', 'youtube_publish_date',\n",
       "       'updated_at', 'district', 'impact_possible', 'is_impact',\n",
       "       'impact_in_process', 'target_official', 'call_to_action',\n",
       "       'impact_plan'],\n",
       "      dtype='object')"
      ]
     },
     "execution_count": 7,
     "metadata": {},
     "output_type": "execute_result"
    }
   ],
   "source": [
    "batch_1 = unclean_data[selected_1]\n",
    "batch_1.columns"
   ]
  },
  {
   "cell_type": "code",
   "execution_count": 8,
   "id": "599de235-4ef9-4c19-b9c3-f9606589ab16",
   "metadata": {},
   "outputs": [
    {
     "name": "stdout",
     "output_type": "stream",
     "text": [
      "<class 'pandas.core.frame.DataFrame'>\n",
      "RangeIndex: 2002 entries, 0 to 2001\n",
      "Data columns (total 13 columns):\n",
      " #   Column                Non-Null Count  Dtype         \n",
      "---  ------                --------------  -----         \n",
      " 0   cc_name               2002 non-null   object        \n",
      " 1   mentor                2002 non-null   object        \n",
      " 2   description           2002 non-null   object        \n",
      " 3   issues                2002 non-null   object        \n",
      " 4   youtube_publish_date  2002 non-null   datetime64[ns]\n",
      " 5   updated_at            2002 non-null   datetime64[ns]\n",
      " 6   district              2002 non-null   object        \n",
      " 7   impact_possible       1788 non-null   object        \n",
      " 8   is_impact             1828 non-null   float64       \n",
      " 9   impact_in_process     1971 non-null   object        \n",
      " 10  target_official       1683 non-null   object        \n",
      " 11  call_to_action        1607 non-null   object        \n",
      " 12  impact_plan           1681 non-null   object        \n",
      "dtypes: datetime64[ns](2), float64(1), object(10)\n",
      "memory usage: 203.5+ KB\n"
     ]
    }
   ],
   "source": [
    "batch_1.info()"
   ]
  },
  {
   "cell_type": "markdown",
   "id": "5319fcb7-d0d4-4057-9a74-a85a5fa4076b",
   "metadata": {
    "tags": []
   },
   "source": [
    "### Batch-1"
   ]
  },
  {
   "cell_type": "code",
   "execution_count": 9,
   "id": "fb5df48a-4fdc-4355-a08f-9298a9cff0d3",
   "metadata": {},
   "outputs": [],
   "source": [
    "#description"
   ]
  },
  {
   "cell_type": "code",
   "execution_count": 19,
   "id": "840ecd15-3423-4464-8468-f402ab9d8ba3",
   "metadata": {},
   "outputs": [
    {
     "name": "stderr",
     "output_type": "stream",
     "text": [
      "C:\\Users\\mistr\\Anaconda3\\lib\\site-packages\\pandas\\core\\indexing.py:1773: SettingWithCopyWarning: \n",
      "A value is trying to be set on a copy of a slice from a DataFrame.\n",
      "Try using .loc[row_indexer,col_indexer] = value instead\n",
      "\n",
      "See the caveats in the documentation: https://pandas.pydata.org/pandas-docs/stable/user_guide/indexing.html#returning-a-view-versus-a-copy\n",
      "  self._setitem_single_column(ilocs[0], value, pi)\n"
     ]
    }
   ],
   "source": [
    "#youtube_publish_date\n",
    "\n",
    "assert batch_1['youtube_publish_date'].isna().sum() == 0\n",
    "batch_1 = split_dates(batch_1, 'youtube_publish_date')"
   ]
  },
  {
   "cell_type": "code",
   "execution_count": 20,
   "id": "94bc1f24-be10-4896-b34b-fec05a0cecda",
   "metadata": {},
   "outputs": [
    {
     "data": {
      "text/plain": [
       "Index(['cc_name', 'mentor', 'description', 'issues', 'youtube_publish_date',\n",
       "       'updated_at', 'district', 'impact_possible', 'is_impact',\n",
       "       'impact_in_process', 'target_official', 'call_to_action', 'impact_plan',\n",
       "       'youtube_publish_date_year', 'youtube_publish_date_month',\n",
       "       'youtube_publish_date_day'],\n",
       "      dtype='object')"
      ]
     },
     "execution_count": 20,
     "metadata": {},
     "output_type": "execute_result"
    }
   ],
   "source": [
    "batch_1.columns"
   ]
  },
  {
   "cell_type": "code",
   "execution_count": 11,
   "id": "2bfd2f03-5e84-4f48-a578-b0a979673561",
   "metadata": {},
   "outputs": [
    {
     "data": {
      "text/plain": [
       "<AxesSubplot:xlabel='date'>"
      ]
     },
     "execution_count": 11,
     "metadata": {},
     "output_type": "execute_result"
    },
    {
     "data": {
      "image/png": "[encoded data removed]",
      "text/plain": [
       "<Figure size 1440x288 with 1 Axes>"
      ]
     },
     "metadata": {
      "needs_background": "light"
     },
     "output_type": "display_data"
    }
   ],
   "source": [
    "# dates of publishing youtube videos\n",
    "publish_dates = pd.DataFrame(batch_1['youtube_publish_date'].value_counts(dropna=False).reset_index())\n",
    "publish_dates.columns = ['date', 'count']\n",
    "publish_dates.plot('date','count', figsize=(20,4))"
   ]
  },
  {
   "cell_type": "code",
   "execution_count": null,
   "id": "ddce16a3-f5e8-4b4c-b908-8ced9c44db50",
   "metadata": {},
   "outputs": [],
   "source": []
  },
  {
   "cell_type": "code",
   "execution_count": 12,
   "id": "28d59cb4-9ed8-4c85-bb88-e2457cf5f7e6",
   "metadata": {},
   "outputs": [],
   "source": [
    "updated_dates = pd.DataFrame(batch_1['updated_at'].value_counts().reset_index())\n",
    "\n",
    "# publish_dates.columns = ['date', 'count']\n",
    "# publish_dates.plot('date','count', figsize=(20,4))"
   ]
  },
  {
   "cell_type": "code",
   "execution_count": 13,
   "id": "df6114c0-ed3e-4a5f-aa91-af93afb58f01",
   "metadata": {},
   "outputs": [
    {
     "name": "stdout",
     "output_type": "stream",
     "text": [
      "[0, 1, 2, 3, 4, 5, 6, 7, 8, 9, 10, 11, 12, 13, 14, 15, 16, 17, 18, 19, 20, 21, 22, 23, 24, 25, 26, 27, 28, 29, 30, 31, 32, 33, 34, 35, 36, 37, 38, 39, 40, 41, 42, 43, 44, 45, 46, 47, 48, 49, 50, 51, 52, 53, 54, 55, 56, 57, 58, 59, 60, 61, 62, 63, 64, 65, 66, 67, 68, 69, 70, 71, 72, 73, 74, 75, 76, 77, 78, 79, 80, 81, 82, 83, 84, 85, 86, 87, 88, 89, 90, 91, 92, 93, 94, 95, 96, 97, 98, 99, 100, 101, 102, 103, 104, 105, 106, 107, 108, 109, 110, 111, 112, 113, 114, 115, 116, 117, 118, 119, 120, 121, 122, 123, 124, 125, 126, 127, 128, 129, 130, 131, 132, 133, 134, 135, 136, 137, 138, 139, 140, 141, 142, 143, 144, 145, 146, 147, 148, 149, 150, 151, 152, 153, 154, 155, 156, 157, 158, 159, 160, 161, 162, 163, 164, 165, 166, 167, 168, 169, 170, 171, 172, 173, 174, 175, 176, 177, 178, 179, 180, 181, 182, 183, 184, 185, 186, 187, 188, 189, 190, 191, 192, 193, 194, 195, 196, 197, 198, 199, 200, 201, 202, 203, 204, 205, 206, 207, 208, 209, 210, 211, 212, 213, 214, 215, 216, 217, 218, 219, 220, 221, 222, 223, 224, 225, 226, 227, 228, 229, 230, 231, 232, 233, 234, 235, 236, 237, 238, 239, 240, 241, 242, 243, 244, 245, 246, 247, 248, 249, 250, 251, 252, 253, 254, 255, 256, 257, 258, 259, 260, 261, 262, 263, 264, 265, 266, 267, 268, 269, 270, 271, 272, 273, 274, 275, 276, 277, 278, 279, 280, 281, 282, 283, 284, 285, 286, 287, 288, 289, 290, 291, 292, 293, 294, 295, 296, 297, 298, 299, 300, 301, 302, 303, 304, 305, 306, 307, 308, 309, 310]\n"
     ]
    }
   ],
   "source": [
    "print([x for x in updated_dates.index])"
   ]
  },
  {
   "cell_type": "code",
   "execution_count": 14,
   "id": "9bf4fe42-efb8-4a2e-8a45-89f96aaaf02a",
   "metadata": {},
   "outputs": [
    {
     "name": "stderr",
     "output_type": "stream",
     "text": [
      "C:\\Users\\mistr\\Anaconda3\\lib\\site-packages\\pandas\\core\\indexing.py:1773: SettingWithCopyWarning: \n",
      "A value is trying to be set on a copy of a slice from a DataFrame.\n",
      "Try using .loc[row_indexer,col_indexer] = value instead\n",
      "\n",
      "See the caveats in the documentation: https://pandas.pydata.org/pandas-docs/stable/user_guide/indexing.html#returning-a-view-versus-a-copy\n",
      "  self._setitem_single_column(ilocs[0], value, pi)\n"
     ]
    },
    {
     "data": {
      "text/plain": [
       "anti poverty programs            466\n",
       "crumbling infrastructure         199\n",
       "governance and accountability    169\n",
       "water                            166\n",
       "education                        162\n",
       "corruption                       131\n",
       "health                           106\n",
       "livelihoods                       92\n",
       "sanitation                        62\n",
       "power & energy                    56\n",
       "forced evictions                  51\n",
       "labor rights                      46\n",
       "gender                            39\n",
       "art & culture                     36\n",
       "reproductive rights               29\n",
       "environment                       29\n",
       "infrastructure                    28\n",
       "indigenous peoples                20\n",
       "mining                            14\n",
       "trafficking & migration           14\n",
       "rural innovation                  13\n",
       "development                       13\n",
       "conflicts                         12\n",
       "agrarian crisis                   11\n",
       "religion & faith                  11\n",
       "impact                             7\n",
       "natural disaster                   6\n",
       "technology                         6\n",
       "courage & inspiration              4\n",
       "state repression                   3\n",
       "caste                              1\n",
       "Name: issues, dtype: int64"
      ]
     },
     "execution_count": 14,
     "metadata": {},
     "output_type": "execute_result"
    }
   ],
   "source": [
    "#issues\n",
    "\n",
    "batch_1.loc[:,'issues'] = batch_1.loc[:,'issues'].str.strip().str.lower()\n",
    "batch_1.loc[:, 'issues'].value_counts()"
   ]
  },
  {
   "cell_type": "code",
   "execution_count": 15,
   "id": "574130e9-ae36-46b7-bed5-a33268068693",
   "metadata": {},
   "outputs": [
    {
     "data": {
      "text/plain": [
       "False    1425\n",
       "True      403\n",
       "NA        174\n",
       "Name: is_impact, dtype: int64"
      ]
     },
     "execution_count": 15,
     "metadata": {},
     "output_type": "execute_result"
    }
   ],
   "source": [
    "# is_impact\n",
    "\n",
    "batch_1.loc[:,'is_impact'] = batch_1.loc[:,'is_impact'].map({1.0:True, 0.0:False, None: 'NA'})\n",
    "batch_1['is_impact'].value_counts(dropna=False)"
   ]
  },
  {
   "cell_type": "code",
   "execution_count": 16,
   "id": "1520d7f2-0c69-4de7-8ac7-a709308f683e",
   "metadata": {},
   "outputs": [
    {
     "data": {
      "text/plain": [
       "True     1699\n",
       "NA        214\n",
       "False      89\n",
       "Name: impact_possible, dtype: int64"
      ]
     },
     "execution_count": 16,
     "metadata": {},
     "output_type": "execute_result"
    }
   ],
   "source": [
    "# impact_possible\n",
    "\n",
    "# batch_1.loc[:,'impact_possible'].value_counts(dropna=False)\n",
    "\n",
    "batch_1.loc[:,'impact_possible'] = batch_1.loc[:,'impact_possible'].str.strip().str.lower()\n",
    "batch_1.loc[:,'impact_possible'] = batch_1.loc[:,'impact_possible'].map({'no':False,'yes':True})  \n",
    "batch_1.loc[:,'impact_possible'] = batch_1.loc[:,'impact_possible'].fillna(\"NA\")\n",
    "\n",
    "batch_1.loc[:,'impact_possible'].value_counts(dropna=False)"
   ]
  },
  {
   "cell_type": "code",
   "execution_count": null,
   "id": "9a52b277-a3b6-4d7b-be17-1c199526aa48",
   "metadata": {},
   "outputs": [],
   "source": []
  },
  {
   "cell_type": "code",
   "execution_count": null,
   "id": "f3d8e159-7829-4097-9e8e-e497b372427f",
   "metadata": {},
   "outputs": [],
   "source": []
  },
  {
   "cell_type": "code",
   "execution_count": null,
   "id": "e6d131bd-eb80-45b5-816e-bc00fc29cd9f",
   "metadata": {
    "tags": []
   },
   "outputs": [],
   "source": []
  },
  {
   "cell_type": "code",
   "execution_count": null,
   "id": "ec84b2d9-39f7-4a37-b4f3-101382bb7410",
   "metadata": {},
   "outputs": [],
   "source": []
  },
  {
   "cell_type": "code",
   "execution_count": null,
   "id": "0507bbb3-e724-4d92-822f-e75feb547843",
   "metadata": {},
   "outputs": [],
   "source": []
  },
  {
   "cell_type": "code",
   "execution_count": null,
   "id": "7fbab02a-f53a-4c54-9372-23de94f6a4a2",
   "metadata": {},
   "outputs": [],
   "source": []
  },
  {
   "cell_type": "code",
   "execution_count": null,
   "id": "60f0528a-52c4-43db-87be-f6971c4c8050",
   "metadata": {},
   "outputs": [],
   "source": []
  },
  {
   "cell_type": "code",
   "execution_count": null,
   "id": "a9d12670-4ea5-4524-b8e3-a6ace7598e9f",
   "metadata": {},
   "outputs": [],
   "source": []
  }
 ],
 "metadata": {
  "kernelspec": {
   "display_name": "Python 3 (ipykernel)",
   "language": "python",
   "name": "python3"
  },
  "language_info": {
   "codemirror_mode": {
    "name": "ipython",
    "version": 3
   },
   "file_extension": ".py",
   "mimetype": "text/x-python",
   "name": "python",
   "nbconvert_exporter": "python",
   "pygments_lexer": "ipython3",
   "version": "3.7.11"
  }
 },
 "nbformat": 4,
 "nbformat_minor": 5
}
